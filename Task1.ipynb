{
 "cells": [
  {
   "cell_type": "code",
   "execution_count": 2,
   "metadata": {},
   "outputs": [],
   "source": [
    "import cv2\n",
    "from tkinter import *\n",
    "from PIL import ImageTk, Image"
   ]
  },
  {
   "cell_type": "code",
   "execution_count": null,
   "metadata": {},
   "outputs": [],
   "source": []
  },
  {
   "cell_type": "code",
   "execution_count": 1,
   "metadata": {},
   "outputs": [
    {
     "name": "stderr",
     "output_type": "stream",
     "text": [
      "Exception in Tkinter callback\n",
      "Traceback (most recent call last):\n",
      "  File \"c:\\ProgramData\\Anaconda3\\lib\\tkinter\\__init__.py\", line 1892, in __call__\n",
      "    return self.func(*args)\n",
      "  File \"<ipython-input-1-cbc40da9cfbf>\", line 23, in function1\n",
      "    if img is not None:\n",
      "NameError: name 'img' is not defined\n"
     ]
    },
    {
     "ename": "KeyboardInterrupt",
     "evalue": "",
     "output_type": "error",
     "traceback": [
      "\u001b[1;31m---------------------------------------------------------------------------\u001b[0m",
      "\u001b[1;31mKeyboardInterrupt\u001b[0m                         Traceback (most recent call last)",
      "\u001b[1;32m<ipython-input-1-cbc40da9cfbf>\u001b[0m in \u001b[0;36m<module>\u001b[1;34m\u001b[0m\n\u001b[0;32m     91\u001b[0m \u001b[0mcanvas\u001b[0m\u001b[1;33m.\u001b[0m\u001b[0mpack\u001b[0m\u001b[1;33m(\u001b[0m\u001b[1;33m)\u001b[0m\u001b[1;33m\u001b[0m\u001b[1;33m\u001b[0m\u001b[0m\n\u001b[0;32m     92\u001b[0m \u001b[1;33m\u001b[0m\u001b[0m\n\u001b[1;32m---> 93\u001b[1;33m \u001b[0mroot\u001b[0m\u001b[1;33m.\u001b[0m\u001b[0mmainloop\u001b[0m\u001b[1;33m(\u001b[0m\u001b[1;33m)\u001b[0m\u001b[1;33m\u001b[0m\u001b[1;33m\u001b[0m\u001b[0m\n\u001b[0m",
      "\u001b[1;32mc:\\ProgramData\\Anaconda3\\lib\\tkinter\\__init__.py\u001b[0m in \u001b[0;36mmainloop\u001b[1;34m(self, n)\u001b[0m\n\u001b[0;32m   1427\u001b[0m     \u001b[1;32mdef\u001b[0m \u001b[0mmainloop\u001b[0m\u001b[1;33m(\u001b[0m\u001b[0mself\u001b[0m\u001b[1;33m,\u001b[0m \u001b[0mn\u001b[0m\u001b[1;33m=\u001b[0m\u001b[1;36m0\u001b[0m\u001b[1;33m)\u001b[0m\u001b[1;33m:\u001b[0m\u001b[1;33m\u001b[0m\u001b[1;33m\u001b[0m\u001b[0m\n\u001b[0;32m   1428\u001b[0m         \u001b[1;34m\"\"\"Call the mainloop of Tk.\"\"\"\u001b[0m\u001b[1;33m\u001b[0m\u001b[1;33m\u001b[0m\u001b[0m\n\u001b[1;32m-> 1429\u001b[1;33m         \u001b[0mself\u001b[0m\u001b[1;33m.\u001b[0m\u001b[0mtk\u001b[0m\u001b[1;33m.\u001b[0m\u001b[0mmainloop\u001b[0m\u001b[1;33m(\u001b[0m\u001b[0mn\u001b[0m\u001b[1;33m)\u001b[0m\u001b[1;33m\u001b[0m\u001b[1;33m\u001b[0m\u001b[0m\n\u001b[0m\u001b[0;32m   1430\u001b[0m \u001b[1;33m\u001b[0m\u001b[0m\n\u001b[0;32m   1431\u001b[0m     \u001b[1;32mdef\u001b[0m \u001b[0mquit\u001b[0m\u001b[1;33m(\u001b[0m\u001b[0mself\u001b[0m\u001b[1;33m)\u001b[0m\u001b[1;33m:\u001b[0m\u001b[1;33m\u001b[0m\u001b[1;33m\u001b[0m\u001b[0m\n",
      "\u001b[1;31mKeyboardInterrupt\u001b[0m: "
     ]
    }
   ],
   "source": [
    "from tkinter import Tk, Button, Canvas\n",
    "from tkinter import filedialog\n",
    "import cv2\n",
    "import numpy as np\n",
    "from PIL import Image, ImageTk\n",
    "\n",
    "root = Tk(\"omar\")\n",
    "root.title(\"OpenCV GUI\")\n",
    "\n",
    "# Function to load the image\n",
    "def open_image():\n",
    "    global img\n",
    "    filename = filedialog.askopenfilename(initialdir=\"/\", title=\"Select Image\", filetypes=((\"Image Files\", \"*.jpg *.png\"),))\n",
    "    img = cv2.imread('C:\\\\Users\\\\Un\\\\Documents\\)\\luffy.jpg')\n",
    "    img = cv2.cvtColor(img, cv2.COLOR_BGR2RGB)\n",
    "    img = Image.fromarray(img)\n",
    "    img = ImageTk.PhotoImage(img)\n",
    "    canvas.image = img  \n",
    "    canvas.create_image(0, 0, anchor=\"nw\", image=img)\n",
    "\n",
    "def function1():\n",
    "    global img\n",
    "    if img is not None:\n",
    "        gray_img = cv2.cvtColor(img, cv2.COLOR_RGB2GRAY)\n",
    "        img = Image.fromarray(gray_img)\n",
    "        img = ImageTk.PhotoImage(img)\n",
    "        canvas.image = img\n",
    "        canvas.create_image(0, 0, anchor=\"nw\", image=img)\n",
    "\n",
    "def function2():\n",
    "    global img\n",
    "    if img is not None:\n",
    "        resized_img = cv2.resize(img, (img.shape[1]//2, img.shape[0]//2))\n",
    "        img = Image.fromarray(resized_img)\n",
    "        img = ImageTk.PhotoImage(img)\n",
    "        canvas.image = img\n",
    "        canvas.create_image(0, 0, anchor=\"nw\", image=img)\n",
    "\n",
    "def function3():\n",
    "    global img\n",
    "    if img is not None:\n",
    "        rotated_img = cv2.rotate(img, cv2.ROTATE_90_CLOCKWISE)\n",
    "        img = Image.fromarray(rotated_img)\n",
    "        img = ImageTk.PhotoImage(img)\n",
    "        canvas.image = img\n",
    "        canvas.create_image(0, 0, anchor=\"nw\", image=img)\n",
    "\n",
    "def function4():\n",
    "    global img\n",
    "    if img is not None:\n",
    "        rows, cols = img.shape[:2]\n",
    "        M = np.float32([[1, 0, 50], [0, 1, 50]])\n",
    "        translated_img = cv2.warpAffine(img, M, (cols, rows))\n",
    "        img = Image.fromarray(translated_img)\n",
    "        img = ImageTk.PhotoImage(img)\n",
    "        canvas.image = img\n",
    "        canvas.create_image(0, 0, anchor=\"nw\", image=img)\n",
    "\n",
    "def function5():\n",
    "    global img\n",
    "    if img is not None:\n",
    "        gray_img = cv2.cvtColor(img, cv2.COLOR_RGB2GRAY)\n",
    "        _, threshold_img = cv2.threshold(gray_img, 128, 255, cv2.THRESH_BINARY)\n",
    "        contours, _ = cv2.findContours(threshold_img, cv2.RETR_EXTERNAL, cv2.CHAIN_APPROX_SIMPLE)\n",
    "        img_with_contours = cv2.drawContours(img.copy(), contours, -1, (0, 255, 0), 3)\n",
    "        img = Image.fromarray(img_with_contours)\n",
    "        img = ImageTk.PhotoImage(img)\n",
    "        canvas.image = img\n",
    "        canvas.create_image(0, 0, anchor=\"nw\", image=img)\n",
    "\n",
    "\n",
    "load_button = Button(root, text=\"Load Image\", command=open_image)\n",
    "load_button.pack()\n",
    "\n",
    "function1_button = Button(root, text=\"Gray\", command=function1)\n",
    "function1_button.pack()\n",
    "\n",
    "function2_button = Button(root, text=\"Resize\", command=function2)\n",
    "function2_button.pack()\n",
    "\n",
    "function3_button = Button(root, text=\"Rotate\", command=function3)\n",
    "function3_button.pack()\n",
    "\n",
    "function4_button = Button(root, text=\"Translate\", command=function4)\n",
    "function4_button.pack()\n",
    "\n",
    "function5_button = Button(root, text=\"Contours\", command=function5)\n",
    "function5_button.pack()\n",
    "\n",
    "canvas = Canvas(root, width=300, height=300)\n",
    "canvas.pack()\n",
    "\n",
    "root.mainloop()\n"
   ]
  },
  {
   "cell_type": "code",
   "execution_count": null,
   "metadata": {},
   "outputs": [],
   "source": []
  },
  {
   "cell_type": "code",
   "execution_count": null,
   "metadata": {},
   "outputs": [],
   "source": [
    "\n"
   ]
  },
  {
   "cell_type": "code",
   "execution_count": null,
   "metadata": {},
   "outputs": [],
   "source": [
    "\n"
   ]
  }
 ],
 "metadata": {
  "kernelspec": {
   "display_name": "base",
   "language": "python",
   "name": "python3"
  },
  "language_info": {
   "codemirror_mode": {
    "name": "ipython",
    "version": 3
   },
   "file_extension": ".py",
   "mimetype": "text/x-python",
   "name": "python",
   "nbconvert_exporter": "python",
   "pygments_lexer": "ipython3",
   "version": "3.8.8"
  },
  "orig_nbformat": 4
 },
 "nbformat": 4,
 "nbformat_minor": 2
}
